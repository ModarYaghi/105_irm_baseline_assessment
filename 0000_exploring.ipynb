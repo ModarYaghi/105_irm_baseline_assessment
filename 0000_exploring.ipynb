{
 "cells": [
  {
   "cell_type": "code",
   "execution_count": null,
   "id": "initial_id",
   "metadata": {
    "collapsed": true
   },
   "outputs": [],
   "source": [
    "import pandas as pd\n",
    "from var_names import *\n",
    "# import numpy as np\n",
    "import yaml"
   ]
  },
  {
   "cell_type": "code",
   "execution_count": null,
   "outputs": [],
   "source": [
    "# read variables' categories file\n",
    "def read_categories_from_file(file_path):\n",
    "    \"\"\"Read variables and their categories from a YAML file.\"\"\"\n",
    "    try:\n",
    "        with open(file_path, 'r') as file:\n",
    "            categories_dictionary = yaml.safe_load(file)\n",
    "        return categories_dictionary\n",
    "    except IOError as e:\n",
    "        print(f\"An error occurred: {e.strerror}\")\n",
    "    except yaml.YAMLError as exc:\n",
    "        print(f\"YAML error: {exc}\")\n",
    "    return {}"
   ],
   "metadata": {
    "collapsed": false
   },
   "id": "52b30cc254e1c465"
  },
  {
   "cell_type": "code",
   "execution_count": null,
   "outputs": [],
   "source": [
    "def frequency_distribution(series, variable_categories):\n",
    "    \"\"\"Calculate value counts and percentages for a pandas Series including all possible categories.\"\"\"\n",
    "    # Convert the series to a categorical series with the specified categories\n",
    "    categorical_series = pd.Categorical(series, categories=variable_categories)\n",
    "    \n",
    "    # Calculate frequency counts and percentages\n",
    "    freq_count = pd.Series(categorical_series).value_counts(dropna=False).sort_index()\n",
    "    relative_freq = pd.Series(categorical_series).value_counts(normalize=True, dropna=False).mul(100).round(2).sort_index()\n",
    "    relative_freq_str = relative_freq.astype(str) + '%'\n",
    "    \n",
    "    # Combine into a DataFrame\n",
    "    result = pd.DataFrame({\n",
    "        'N': freq_count,\n",
    "        '%': relative_freq_str\n",
    "    })\n",
    "    \n",
    "    # Reindex the DataFrame to include all categories, filling with 0 for the counts and '0%' for the percentages\n",
    "    result = result.reindex(categories, fill_value=0)\n",
    "    result['%'] = result['%'].replace({'0.0%': '0%'})\n",
    "\n",
    "    return result"
   ],
   "metadata": {
    "collapsed": false
   },
   "id": "53424471859c10ee"
  },
  {
   "cell_type": "code",
   "execution_count": null,
   "outputs": [],
   "source": [
    "# codebook = pd.read_excel('codebook.xlsx')\n",
    "baseline = pd.read_csv('tba_data.csv')\n",
    "categories_dict = read_categories_from_file('var_cat.yaml')"
   ],
   "metadata": {
    "collapsed": false
   },
   "id": "30c09eb881717da0"
  },
  {
   "cell_type": "code",
   "execution_count": null,
   "outputs": [],
   "source": [
    "# baseline"
   ],
   "metadata": {
    "collapsed": false
   },
   "id": "1dd3c38570754b58"
  },
  {
   "cell_type": "code",
   "execution_count": null,
   "outputs": [],
   "source": [
    "def tabulation(df, variable, variable_categories):\n",
    "   \"\"\"Tabulate value counts for a specific variable in a DataFrame.\"\"\"\n",
    "   series = df[variable]\n",
    "   frequencies = frequency_distribution(series=series, variable_categories=variable_categories)\n",
    "   return frequencies"
   ],
   "metadata": {
    "collapsed": false
   },
   "id": "57ba63057e4b1583"
  },
  {
   "cell_type": "code",
   "execution_count": null,
   "outputs": [],
   "source": [
    "question = 'qual_life1'\n",
    "var_cat = 'scale1'\n",
    "categories = categories_dict.get(var_cat, [])\n",
    "frequency = tabulation(baseline, question, categories)\n",
    "frequency.to_clipboard()"
   ],
   "metadata": {
    "collapsed": false
   },
   "id": "1cd1e513e0330703"
  },
  {
   "cell_type": "code",
   "execution_count": null,
   "outputs": [],
   "source": [
    "frequency"
   ],
   "metadata": {
    "collapsed": false
   },
   "id": "ef151cb4ece17a80"
  },
  {
   "cell_type": "code",
   "execution_count": null,
   "outputs": [],
   "source": [],
   "metadata": {
    "collapsed": false
   },
   "id": "a73ecd5dd81e54dc"
  },
  {
   "cell_type": "code",
   "execution_count": null,
   "outputs": [],
   "source": [
    "# Create a Pandas Excel writer using XlsxWriter as the engine.\n",
    "# with pd.ExcelWriter(output_file, engine='xlsxwriter') as writer:\n",
    "#    for var in question:\n",
    "#       Check if the variable exists in the dataframe\n",
    "#       if var in baseline.columns:\n",
    "         # Apply your function to the variable, and get the results\n",
    "         # result_df = normalized_value_counts(baseline[var])\n",
    "         # Write each DataFrame to a specific sheet\n",
    "         # result_df.to_excel(writer, sheet_name=var)\n",
    "      # else:\n",
    "      #    print(f\"Variable {var} not found in DataFrame.\")"
   ],
   "metadata": {
    "collapsed": false
   },
   "id": "2e0c6acd765903ab"
  },
  {
   "cell_type": "code",
   "execution_count": null,
   "outputs": [],
   "source": [
    "baseline['network_size'].value_counts()"
   ],
   "metadata": {
    "collapsed": false
   },
   "id": "6550da05f01d01a1"
  },
  {
   "cell_type": "code",
   "execution_count": null,
   "outputs": [],
   "source": [
    "# baseline['relative_support2'].value_counts(normalize=True) * 100"
   ],
   "metadata": {
    "collapsed": false
   },
   "id": "dea777515fe075e8"
  },
  {
   "cell_type": "code",
   "execution_count": null,
   "outputs": [],
   "source": [],
   "metadata": {
    "collapsed": false
   },
   "id": "220e9332f8c92407"
  }
 ],
 "metadata": {
  "kernelspec": {
   "display_name": "Python 3",
   "language": "python",
   "name": "python3"
  },
  "language_info": {
   "codemirror_mode": {
    "name": "ipython",
    "version": 2
   },
   "file_extension": ".py",
   "mimetype": "text/x-python",
   "name": "python",
   "nbconvert_exporter": "python",
   "pygments_lexer": "ipython2",
   "version": "2.7.6"
  }
 },
 "nbformat": 4,
 "nbformat_minor": 5
}
