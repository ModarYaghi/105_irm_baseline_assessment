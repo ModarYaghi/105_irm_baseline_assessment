{
 "cells": [
  {
   "cell_type": "code",
   "execution_count": 1,
   "id": "initial_id",
   "metadata": {
    "collapsed": true,
    "ExecuteTime": {
     "end_time": "2023-11-06T11:47:08.165726300Z",
     "start_time": "2023-11-06T11:47:07.265635800Z"
    }
   },
   "outputs": [],
   "source": [
    "import pandas as pd\n",
    "from var_names import *\n",
    "# import numpy as np\n",
    "import yaml"
   ]
  },
  {
   "cell_type": "code",
   "execution_count": 2,
   "outputs": [],
   "source": [
    "# read variables' categories file\n",
    "def read_categories_from_file(file_path):\n",
    "    \"\"\"Read variables and their categories from a YAML file.\"\"\"\n",
    "    try:\n",
    "        with open(file_path, 'r') as file:\n",
    "            categories_dict = yaml.safe_load(file)\n",
    "        return categories_dict\n",
    "    except IOError as e:\n",
    "        print(f\"An error occurred: {e.strerror}\")\n",
    "    except yaml.YAMLError as exc:\n",
    "        print(f\"YAML error: {exc}\")\n",
    "    return {}"
   ],
   "metadata": {
    "collapsed": false,
    "ExecuteTime": {
     "end_time": "2023-11-06T11:47:09.815789500Z",
     "start_time": "2023-11-06T11:47:09.795740700Z"
    }
   },
   "id": "52b30cc254e1c465"
  },
  {
   "cell_type": "code",
   "execution_count": 3,
   "outputs": [],
   "source": [
    "def frequency_distribution(series, categories):\n",
    "    \"\"\"Calculate value counts and percentages for a pandas Series including all possible categories.\"\"\"\n",
    "    # Convert the series to a categorical series with the specified categories\n",
    "    cat_series = pd.Categorical(series, categories=categories)\n",
    "    \n",
    "    # Calculate frequency counts and percentages\n",
    "    freq_count = pd.Series(cat_series).value_counts(dropna=False).sort_index()\n",
    "    relative_freq = pd.Series(cat_series).value_counts(normalize=True, dropna=False).mul(100).round(2).sort_index()\n",
    "    relative_freq_str = relative_freq.astype(str) + '%'\n",
    "    \n",
    "    # Combine into a DataFrame\n",
    "    result = pd.DataFrame({\n",
    "        'N': freq_count,\n",
    "        '%': relative_freq_str\n",
    "    })\n",
    "    \n",
    "    # Reindex the DataFrame to include all categories, filling with 0 for the counts and '0%' for the percentages\n",
    "    result = result.reindex(categories, fill_value=0)\n",
    "    result['%'] = result['%'].replace({'0.0%': '0%'})\n",
    "\n",
    "    return result"
   ],
   "metadata": {
    "collapsed": false,
    "ExecuteTime": {
     "end_time": "2023-11-06T11:47:10.725728300Z",
     "start_time": "2023-11-06T11:47:10.715790700Z"
    }
   },
   "id": "53424471859c10ee"
  },
  {
   "cell_type": "code",
   "execution_count": 4,
   "outputs": [],
   "source": [
    "# codebook = pd.read_excel('codebook.xlsx')\n",
    "baseline = pd.read_csv('tba_data.csv')"
   ],
   "metadata": {
    "collapsed": false,
    "ExecuteTime": {
     "end_time": "2023-11-06T11:47:12.115726100Z",
     "start_time": "2023-11-06T11:47:12.094589100Z"
    }
   },
   "id": "30c09eb881717da0"
  },
  {
   "cell_type": "code",
   "execution_count": 5,
   "outputs": [],
   "source": [
    "# baseline"
   ],
   "metadata": {
    "collapsed": false,
    "ExecuteTime": {
     "end_time": "2023-11-06T11:47:12.995743500Z",
     "start_time": "2023-11-06T11:47:12.978988100Z"
    }
   },
   "id": "1dd3c38570754b58"
  },
  {
   "cell_type": "code",
   "execution_count": 6,
   "outputs": [],
   "source": [
    "cat_dict = read_categories_from_file('var_cat.yaml')"
   ],
   "metadata": {
    "collapsed": false,
    "ExecuteTime": {
     "end_time": "2023-11-06T11:47:14.585600800Z",
     "start_time": "2023-11-06T11:47:14.565542800Z"
    }
   },
   "id": "7f042eff7003d67b"
  },
  {
   "cell_type": "code",
   "execution_count": 7,
   "outputs": [
    {
     "data": {
      "text/plain": "{'age': ['under_18', '18-24', '25-55', 'over_55'],\n 'consent': ['agree', 'disagree'],\n 'gender': ['male', 'female', 'other'],\n 'location': ['mersin', 'hatay', 'gaziantep', 'urfa'],\n 'scale1': ['very_poor', 'poor', 'neither', 'good', 'very_good', 888, 999],\n 'scale2': ['very_dissatisfied',\n  'dissatisfied',\n  'neither',\n  'satisfied',\n  'very_satisfied',\n  888,\n  999],\n 'scale3': ['not_at_all',\n  'a_little',\n  'moderate_amount',\n  'very_much',\n  'extreme_amount',\n  888,\n  999],\n 'scale4': ['not_at_all',\n  'a_little',\n  'moderately',\n  'mostly',\n  'completely',\n  888,\n  999],\n 'scale5': ['never',\n  'seldom',\n  'quite_often',\n  'very_often',\n  'always',\n  888,\n  999],\n 'scale6': ['none', 'very_few', 'some', 'many', 'very_many', 888, 999],\n 'scale7': ['none',\n  'a_little',\n  'moderate_amount',\n  'quite_a_lot',\n  'very_much',\n  888,\n  999],\n 'scale8': ['strongly_disagree',\n  'disagree',\n  'neither',\n  'agree',\n  'strongly_agree',\n  888,\n  999],\n 'scale9': ['not_at_all',\n  'a_little',\n  'somewhat',\n  'very_much',\n  'totally',\n  888,\n  999],\n 'yes_no': [True, False, 888, 999],\n 'yes_no_somewhat': [True, False, 'somewhat', 888, 999],\n 'housing': ['outside', 'camp', 'family', 'other_house', 'same_house']}"
     },
     "execution_count": 7,
     "metadata": {},
     "output_type": "execute_result"
    }
   ],
   "source": [
    "cat_dict"
   ],
   "metadata": {
    "collapsed": false,
    "ExecuteTime": {
     "end_time": "2023-11-06T11:48:49.557995900Z",
     "start_time": "2023-11-06T11:48:49.537886800Z"
    }
   },
   "id": "e574e726c42f1a8f"
  },
  {
   "cell_type": "code",
   "execution_count": 9,
   "outputs": [],
   "source": [
    "def tabulation(df, variable, cat):\n",
    "   \"\"\"Tabulate value counts for a specific variable in a DataFrame.\"\"\"\n",
    "   series = df[variable]\n",
    "   frequencies = frequency_distribution(series=series, categories=cat)\n",
    "   return frequencies"
   ],
   "metadata": {
    "collapsed": false,
    "ExecuteTime": {
     "end_time": "2023-11-06T14:12:38.371224200Z",
     "start_time": "2023-11-06T14:12:38.351962800Z"
    }
   },
   "id": "57ba63057e4b1583"
  },
  {
   "cell_type": "code",
   "execution_count": 10,
   "outputs": [],
   "source": [
    "question = 'qual_life1'\n",
    "var_cat = 'scale1'\n",
    "categories = cat_dict.get(var_cat, [])\n",
    "frequency = tabulation(baseline, question, categories)\n",
    "frequency.to_clipboard()"
   ],
   "metadata": {
    "collapsed": false,
    "ExecuteTime": {
     "end_time": "2023-11-06T14:12:41.367233900Z",
     "start_time": "2023-11-06T14:12:41.256988700Z"
    }
   },
   "id": "1cd1e513e0330703"
  },
  {
   "cell_type": "code",
   "execution_count": 11,
   "outputs": [
    {
     "data": {
      "text/plain": "            N       %\nvery_poor  17  16.04%\npoor       28  26.42%\nneither    32  30.19%\ngood       25  23.58%\nvery_good   4   3.77%\n888         0      0%\n999         0      0%",
      "text/html": "<div>\n<style scoped>\n    .dataframe tbody tr th:only-of-type {\n        vertical-align: middle;\n    }\n\n    .dataframe tbody tr th {\n        vertical-align: top;\n    }\n\n    .dataframe thead th {\n        text-align: right;\n    }\n</style>\n<table border=\"1\" class=\"dataframe\">\n  <thead>\n    <tr style=\"text-align: right;\">\n      <th></th>\n      <th>N</th>\n      <th>%</th>\n    </tr>\n  </thead>\n  <tbody>\n    <tr>\n      <th>very_poor</th>\n      <td>17</td>\n      <td>16.04%</td>\n    </tr>\n    <tr>\n      <th>poor</th>\n      <td>28</td>\n      <td>26.42%</td>\n    </tr>\n    <tr>\n      <th>neither</th>\n      <td>32</td>\n      <td>30.19%</td>\n    </tr>\n    <tr>\n      <th>good</th>\n      <td>25</td>\n      <td>23.58%</td>\n    </tr>\n    <tr>\n      <th>very_good</th>\n      <td>4</td>\n      <td>3.77%</td>\n    </tr>\n    <tr>\n      <th>888</th>\n      <td>0</td>\n      <td>0%</td>\n    </tr>\n    <tr>\n      <th>999</th>\n      <td>0</td>\n      <td>0%</td>\n    </tr>\n  </tbody>\n</table>\n</div>"
     },
     "execution_count": 11,
     "metadata": {},
     "output_type": "execute_result"
    }
   ],
   "source": [
    "frequency"
   ],
   "metadata": {
    "collapsed": false,
    "ExecuteTime": {
     "end_time": "2023-11-06T14:12:43.408884Z",
     "start_time": "2023-11-06T14:12:43.387224600Z"
    }
   },
   "id": "ef151cb4ece17a80"
  },
  {
   "cell_type": "code",
   "execution_count": null,
   "outputs": [],
   "source": [],
   "metadata": {
    "collapsed": false
   },
   "id": "a73ecd5dd81e54dc"
  },
  {
   "cell_type": "code",
   "execution_count": null,
   "outputs": [],
   "source": [
    "# Create a Pandas Excel writer using XlsxWriter as the engine.\n",
    "# with pd.ExcelWriter(output_file, engine='xlsxwriter') as writer:\n",
    "#    for var in question:\n",
    "#       Check if the variable exists in the dataframe\n",
    "#       if var in baseline.columns:\n",
    "         # Apply your function to the variable, and get the results\n",
    "         # result_df = normalized_value_counts(baseline[var])\n",
    "         # Write each DataFrame to a specific sheet\n",
    "         # result_df.to_excel(writer, sheet_name=var)\n",
    "      # else:\n",
    "      #    print(f\"Variable {var} not found in DataFrame.\")"
   ],
   "metadata": {
    "collapsed": false
   },
   "id": "2e0c6acd765903ab"
  },
  {
   "cell_type": "code",
   "execution_count": null,
   "outputs": [],
   "source": [
    "baseline['network_size'].value_counts()"
   ],
   "metadata": {
    "collapsed": false
   },
   "id": "6550da05f01d01a1"
  },
  {
   "cell_type": "code",
   "execution_count": null,
   "outputs": [],
   "source": [
    "# baseline['relative_support2'].value_counts(normalize=True) * 100"
   ],
   "metadata": {
    "collapsed": false
   },
   "id": "dea777515fe075e8"
  },
  {
   "cell_type": "code",
   "execution_count": null,
   "outputs": [],
   "source": [],
   "metadata": {
    "collapsed": false
   },
   "id": "220e9332f8c92407"
  }
 ],
 "metadata": {
  "kernelspec": {
   "display_name": "Python 3",
   "language": "python",
   "name": "python3"
  },
  "language_info": {
   "codemirror_mode": {
    "name": "ipython",
    "version": 2
   },
   "file_extension": ".py",
   "mimetype": "text/x-python",
   "name": "python",
   "nbconvert_exporter": "python",
   "pygments_lexer": "ipython2",
   "version": "2.7.6"
  }
 },
 "nbformat": 4,
 "nbformat_minor": 5
}
