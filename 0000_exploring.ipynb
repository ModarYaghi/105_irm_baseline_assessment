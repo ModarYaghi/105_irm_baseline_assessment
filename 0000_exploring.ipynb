{
 "cells": [
  {
   "cell_type": "code",
   "execution_count": null,
   "id": "initial_id",
   "metadata": {
    "collapsed": true
   },
   "outputs": [],
   "source": [
    "import pandas as pd\n",
    "import numpy as np"
   ]
  },
  {
   "cell_type": "code",
   "execution_count": null,
   "outputs": [],
   "source": [
    "def normalized_value_counts(series):\n",
    "   counts = series.value_counts(sort=True)\n",
    "   percentages = series.value_counts(normalize=True, sort=True).mul(100).round(2).astype(str) + '%'\n",
    "   result = pd.concat([counts, percentages], axis=1, keys=['N', '%'])\n",
    "   \n",
    "   return result"
   ],
   "metadata": {
    "collapsed": false
   },
   "id": "53424471859c10ee"
  },
  {
   "cell_type": "code",
   "execution_count": null,
   "outputs": [],
   "source": [
    "baseline = pd.read_excel('tbd.xlsx')"
   ],
   "metadata": {
    "collapsed": false
   },
   "id": "30c09eb881717da0"
  },
  {
   "cell_type": "code",
   "execution_count": null,
   "outputs": [],
   "source": [
    "baseline"
   ],
   "metadata": {
    "collapsed": false
   },
   "id": "5af82ffbe29095a9"
  },
  {
   "cell_type": "code",
   "execution_count": null,
   "outputs": [],
   "source": [
    "enumerate_seq = baseline['enumerator_name'] \n",
    "enumerate_seq.value_counts()"
   ],
   "metadata": {
    "collapsed": false
   },
   "id": "1c160912a864594a"
  },
  {
   "cell_type": "code",
   "execution_count": null,
   "outputs": [],
   "source": [
    "enumerators = baseline['enumerator_name'].value_counts()"
   ],
   "metadata": {
    "collapsed": false
   },
   "id": "5c9cc42b38ba9a42"
  },
  {
   "cell_type": "code",
   "execution_count": null,
   "outputs": [],
   "source": [
    "enumerator_name_values = {\n",
    "   enumerators.index[0]: 'mm',\n",
    "   enumerators.index[1]: 'bh',\n",
    "   enumerators.index[2]: 'sb',\n",
    "   enumerators.index[3]: 'nk',\n",
    "   enumerators.index[4]: 'nk',\n",
    "   enumerators.index[5]: 'nk',\n",
    "   enumerators.index[6]: 'mm',\n",
    "   enumerators.index[7]: 'bh'\n",
    "}\n",
    "baseline['enumerator_name'] = baseline['enumerator_name'].replace(enumerator_name_values)"
   ],
   "metadata": {
    "collapsed": false
   },
   "id": "a12c27d4ba37fd6f"
  },
  {
   "cell_type": "code",
   "execution_count": null,
   "outputs": [],
   "source": [
    "baseline['enumerator_name'].value_counts()"
   ],
   "metadata": {
    "collapsed": false
   },
   "id": "6b2874e19263cca6"
  },
  {
   "cell_type": "code",
   "execution_count": null,
   "outputs": [],
   "source": [
    "enumerator_name.index[7]\n",
    "# enumerator_name"
   ],
   "metadata": {
    "collapsed": false
   },
   "id": "61e835eddc6b59d2"
  },
  {
   "cell_type": "code",
   "execution_count": null,
   "outputs": [],
   "source": [
    "var = 'qual_life1'\n",
    "data = [var]\n",
    "normalized_value_counts(series=data)"
   ],
   "metadata": {
    "collapsed": false
   },
   "id": "54c80fa37ba8205c"
  },
  {
   "cell_type": "code",
   "execution_count": null,
   "outputs": [],
   "source": [],
   "metadata": {
    "collapsed": false
   },
   "id": "951d4ba4cb384063"
  }
 ],
 "metadata": {
  "kernelspec": {
   "display_name": "Python 3",
   "language": "python",
   "name": "python3"
  },
  "language_info": {
   "codemirror_mode": {
    "name": "ipython",
    "version": 2
   },
   "file_extension": ".py",
   "mimetype": "text/x-python",
   "name": "python",
   "nbconvert_exporter": "python",
   "pygments_lexer": "ipython2",
   "version": "2.7.6"
  }
 },
 "nbformat": 4,
 "nbformat_minor": 5
}
