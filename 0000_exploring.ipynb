{
 "cells": [
  {
   "cell_type": "code",
   "execution_count": 1,
   "id": "initial_id",
   "metadata": {
    "collapsed": true,
    "ExecuteTime": {
     "end_time": "2023-11-02T12:34:59.964415100Z",
     "start_time": "2023-11-02T12:34:59.261209300Z"
    }
   },
   "outputs": [],
   "source": [
    "import pandas as pd\n",
    "# import numpy as np"
   ]
  },
  {
   "cell_type": "code",
   "execution_count": 2,
   "outputs": [],
   "source": [
    "def normalized_value_counts(series):\n",
    "   counts = series.value_counts(dropna=False)\n",
    "   percentages = series.value_counts(normalize=True, dropna=False).mul(100).round(2).astype(str) + '%'\n",
    "   # result = pd.concat([counts, percentages], axis=1, keys=['N', '%'])\n",
    "   result = pd.DataFrame({\n",
    "      'N': counts,\n",
    "      '%': percentages\n",
    "   })\n",
    "   return result"
   ],
   "metadata": {
    "collapsed": false,
    "ExecuteTime": {
     "end_time": "2023-11-02T12:35:00.674776200Z",
     "start_time": "2023-11-02T12:35:00.656505900Z"
    }
   },
   "id": "53424471859c10ee"
  },
  {
   "cell_type": "code",
   "execution_count": 3,
   "outputs": [],
   "source": [
    "# codebook = pd.read_excel('codebook.xlsx')\n",
    "from var_names import *\n",
    "baseline = pd.read_csv('tba_data.csv')"
   ],
   "metadata": {
    "collapsed": false,
    "ExecuteTime": {
     "end_time": "2023-11-02T12:35:02.016856900Z",
     "start_time": "2023-11-02T12:35:01.999759600Z"
    }
   },
   "id": "30c09eb881717da0"
  },
  {
   "cell_type": "code",
   "execution_count": 4,
   "outputs": [
    {
     "data": {
      "text/plain": "    enumerator_name   location  gender age_range qual_life1       qual_life8  \\\n0                sb  gaziantep    male     25-55       good       not_at_all   \n1                sb  gaziantep    male     25-55       good       not_at_all   \n2                sb  gaziantep    male     25-55    neither  moderate_amount   \n3                sb  gaziantep    male     25-55    neither       not_at_all   \n4                sb  gaziantep  female   over_55  very_poor       not_at_all   \n..              ...        ...     ...       ...        ...              ...   \n101              bh       urfa    male     25-55       good   extreme_amount   \n102              bh       urfa    male     25-55       poor       not_at_all   \n103              bh       urfa    male   over_55    neither       not_at_all   \n104              bh       urfa  female     25-55    neither         a_little   \n105              bh       urfa    male   over_55       good  moderate_amount   \n\n          qual_life9 qual_life12 qual_life13 qual_life14  ...  rapport3  \\\n0    moderate_amount  completely    a_little    a_little  ...       yes   \n1    moderate_amount  moderately      mostly    a_little  ...       yes   \n2          very_much  not_at_all      mostly  not_at_all  ...       yes   \n3          very_much    a_little  moderately    a_little  ...       yes   \n4           a_little    a_little    a_little  moderately  ...       yes   \n..               ...         ...         ...         ...  ...       ...   \n101         a_little  moderately    a_little  completely  ...  somewhat   \n102         a_little  moderately    a_little  completely  ...       yes   \n103         a_little  not_at_all      mostly  not_at_all  ...       yes   \n104  moderate_amount    a_little    a_little  moderately  ...       yes   \n105  moderate_amount      mostly      mostly      mostly  ...  somewhat   \n\n                partner_feedback security1  \\\n0                تشكر الجهود فقط        no   \n1      كانو متعاونين إلى حد كبير        no   \n2    مسرور من المشاركين بالمشروع        no   \n3                    لا كل الشكر        no   \n4                        مشكورين        no   \n..                           ...       ...   \n101                          NaN        no   \n102                          NaN        no   \n103                          NaN       yes   \n104                          NaN       yes   \n105                          NaN        no   \n\n                                             security2 recognition  \\\n0                                                  NaN   very_much   \n1                                                  NaN   very_much   \n2                                                  NaN     totally   \n3                                                  NaN   very_much   \n4                                                  NaN   very_much   \n..                                                 ...         ...   \n101                                                NaN    somewhat   \n102                                                NaN     totally   \n103  اتخوف من تسرب المعلومات الشخصية للمشاركين وذلك...    somewhat   \n104                                            لا أعلم   very_much   \n105                                                NaN   very_much   \n\n        justice recognition_justice     dignity  \\\n0     very_much           very_much   very_much   \n1      a_little            a_little    somewhat   \n2       totally           very_much   very_much   \n3     very_much             totally   very_much   \n4     very_much           very_much    somewhat   \n..          ...                 ...         ...   \n101  not_at_all          not_at_all  not_at_all   \n102     totally             totally     totally   \n103    a_little             totally    somewhat   \n104    somewhat           very_much   very_much   \n105    a_little            somewhat    somewhat   \n\n                                         emergency_irm  \\\n0                                          نقلة المنزل   \n1             صرف على أجور المعيشة والتنقل وقت الزلزال   \n2                                 اجار منزل في اسطنبول   \n3                                          اجار للمنزل   \n4           ساعدت فيه ابنتي ودفعت اجار البيت والفواتير   \n..                                                 ...   \n101                                                NaN   \n102  المستلزمات الأساسية خلال فترة الزلزال التي خرج...   \n103                                                NaN   \n104                                                NaN   \n105                                                NaN   \n\n                                              comments  \n0                                                   لا  \n1    يفضل ان يتم إعطاء الدعم المناسب لكل حالة حسب و...  \n2                                                   لا  \n3        يفضل ان يسرع المشروع بسبب الحاجة للدعم المادي  \n4    اتمنى ان يتم اضافة المساعدات الطبية من حيث الت...  \n..                                                 ...  \n101                                                NaN  \n102  اتمنى ان يكون المبلغ جيد بما يكفي احتياجي لإجر...  \n103  انا كفيل للأيتام وأرجو مساعدتي بتأمين أجور تدر...  \n104                                                NaN  \n105  لدي سؤال هل هذه المساعدة لمرة واحدة او قد تتكر...  \n\n[106 rows x 70 columns]",
      "text/html": "<div>\n<style scoped>\n    .dataframe tbody tr th:only-of-type {\n        vertical-align: middle;\n    }\n\n    .dataframe tbody tr th {\n        vertical-align: top;\n    }\n\n    .dataframe thead th {\n        text-align: right;\n    }\n</style>\n<table border=\"1\" class=\"dataframe\">\n  <thead>\n    <tr style=\"text-align: right;\">\n      <th></th>\n      <th>enumerator_name</th>\n      <th>location</th>\n      <th>gender</th>\n      <th>age_range</th>\n      <th>qual_life1</th>\n      <th>qual_life8</th>\n      <th>qual_life9</th>\n      <th>qual_life12</th>\n      <th>qual_life13</th>\n      <th>qual_life14</th>\n      <th>...</th>\n      <th>rapport3</th>\n      <th>partner_feedback</th>\n      <th>security1</th>\n      <th>security2</th>\n      <th>recognition</th>\n      <th>justice</th>\n      <th>recognition_justice</th>\n      <th>dignity</th>\n      <th>emergency_irm</th>\n      <th>comments</th>\n    </tr>\n  </thead>\n  <tbody>\n    <tr>\n      <th>0</th>\n      <td>sb</td>\n      <td>gaziantep</td>\n      <td>male</td>\n      <td>25-55</td>\n      <td>good</td>\n      <td>not_at_all</td>\n      <td>moderate_amount</td>\n      <td>completely</td>\n      <td>a_little</td>\n      <td>a_little</td>\n      <td>...</td>\n      <td>yes</td>\n      <td>تشكر الجهود فقط</td>\n      <td>no</td>\n      <td>NaN</td>\n      <td>very_much</td>\n      <td>very_much</td>\n      <td>very_much</td>\n      <td>very_much</td>\n      <td>نقلة المنزل</td>\n      <td>لا</td>\n    </tr>\n    <tr>\n      <th>1</th>\n      <td>sb</td>\n      <td>gaziantep</td>\n      <td>male</td>\n      <td>25-55</td>\n      <td>good</td>\n      <td>not_at_all</td>\n      <td>moderate_amount</td>\n      <td>moderately</td>\n      <td>mostly</td>\n      <td>a_little</td>\n      <td>...</td>\n      <td>yes</td>\n      <td>كانو متعاونين إلى حد كبير</td>\n      <td>no</td>\n      <td>NaN</td>\n      <td>very_much</td>\n      <td>a_little</td>\n      <td>a_little</td>\n      <td>somewhat</td>\n      <td>صرف على أجور المعيشة والتنقل وقت الزلزال</td>\n      <td>يفضل ان يتم إعطاء الدعم المناسب لكل حالة حسب و...</td>\n    </tr>\n    <tr>\n      <th>2</th>\n      <td>sb</td>\n      <td>gaziantep</td>\n      <td>male</td>\n      <td>25-55</td>\n      <td>neither</td>\n      <td>moderate_amount</td>\n      <td>very_much</td>\n      <td>not_at_all</td>\n      <td>mostly</td>\n      <td>not_at_all</td>\n      <td>...</td>\n      <td>yes</td>\n      <td>مسرور من المشاركين بالمشروع</td>\n      <td>no</td>\n      <td>NaN</td>\n      <td>totally</td>\n      <td>totally</td>\n      <td>very_much</td>\n      <td>very_much</td>\n      <td>اجار منزل في اسطنبول</td>\n      <td>لا</td>\n    </tr>\n    <tr>\n      <th>3</th>\n      <td>sb</td>\n      <td>gaziantep</td>\n      <td>male</td>\n      <td>25-55</td>\n      <td>neither</td>\n      <td>not_at_all</td>\n      <td>very_much</td>\n      <td>a_little</td>\n      <td>moderately</td>\n      <td>a_little</td>\n      <td>...</td>\n      <td>yes</td>\n      <td>لا كل الشكر</td>\n      <td>no</td>\n      <td>NaN</td>\n      <td>very_much</td>\n      <td>very_much</td>\n      <td>totally</td>\n      <td>very_much</td>\n      <td>اجار للمنزل</td>\n      <td>يفضل ان يسرع المشروع بسبب الحاجة للدعم المادي</td>\n    </tr>\n    <tr>\n      <th>4</th>\n      <td>sb</td>\n      <td>gaziantep</td>\n      <td>female</td>\n      <td>over_55</td>\n      <td>very_poor</td>\n      <td>not_at_all</td>\n      <td>a_little</td>\n      <td>a_little</td>\n      <td>a_little</td>\n      <td>moderately</td>\n      <td>...</td>\n      <td>yes</td>\n      <td>مشكورين</td>\n      <td>no</td>\n      <td>NaN</td>\n      <td>very_much</td>\n      <td>very_much</td>\n      <td>very_much</td>\n      <td>somewhat</td>\n      <td>ساعدت فيه ابنتي ودفعت اجار البيت والفواتير</td>\n      <td>اتمنى ان يتم اضافة المساعدات الطبية من حيث الت...</td>\n    </tr>\n    <tr>\n      <th>...</th>\n      <td>...</td>\n      <td>...</td>\n      <td>...</td>\n      <td>...</td>\n      <td>...</td>\n      <td>...</td>\n      <td>...</td>\n      <td>...</td>\n      <td>...</td>\n      <td>...</td>\n      <td>...</td>\n      <td>...</td>\n      <td>...</td>\n      <td>...</td>\n      <td>...</td>\n      <td>...</td>\n      <td>...</td>\n      <td>...</td>\n      <td>...</td>\n      <td>...</td>\n      <td>...</td>\n    </tr>\n    <tr>\n      <th>101</th>\n      <td>bh</td>\n      <td>urfa</td>\n      <td>male</td>\n      <td>25-55</td>\n      <td>good</td>\n      <td>extreme_amount</td>\n      <td>a_little</td>\n      <td>moderately</td>\n      <td>a_little</td>\n      <td>completely</td>\n      <td>...</td>\n      <td>somewhat</td>\n      <td>NaN</td>\n      <td>no</td>\n      <td>NaN</td>\n      <td>somewhat</td>\n      <td>not_at_all</td>\n      <td>not_at_all</td>\n      <td>not_at_all</td>\n      <td>NaN</td>\n      <td>NaN</td>\n    </tr>\n    <tr>\n      <th>102</th>\n      <td>bh</td>\n      <td>urfa</td>\n      <td>male</td>\n      <td>25-55</td>\n      <td>poor</td>\n      <td>not_at_all</td>\n      <td>a_little</td>\n      <td>moderately</td>\n      <td>a_little</td>\n      <td>completely</td>\n      <td>...</td>\n      <td>yes</td>\n      <td>NaN</td>\n      <td>no</td>\n      <td>NaN</td>\n      <td>totally</td>\n      <td>totally</td>\n      <td>totally</td>\n      <td>totally</td>\n      <td>المستلزمات الأساسية خلال فترة الزلزال التي خرج...</td>\n      <td>اتمنى ان يكون المبلغ جيد بما يكفي احتياجي لإجر...</td>\n    </tr>\n    <tr>\n      <th>103</th>\n      <td>bh</td>\n      <td>urfa</td>\n      <td>male</td>\n      <td>over_55</td>\n      <td>neither</td>\n      <td>not_at_all</td>\n      <td>a_little</td>\n      <td>not_at_all</td>\n      <td>mostly</td>\n      <td>not_at_all</td>\n      <td>...</td>\n      <td>yes</td>\n      <td>NaN</td>\n      <td>yes</td>\n      <td>اتخوف من تسرب المعلومات الشخصية للمشاركين وذلك...</td>\n      <td>somewhat</td>\n      <td>a_little</td>\n      <td>totally</td>\n      <td>somewhat</td>\n      <td>NaN</td>\n      <td>انا كفيل للأيتام وأرجو مساعدتي بتأمين أجور تدر...</td>\n    </tr>\n    <tr>\n      <th>104</th>\n      <td>bh</td>\n      <td>urfa</td>\n      <td>female</td>\n      <td>25-55</td>\n      <td>neither</td>\n      <td>a_little</td>\n      <td>moderate_amount</td>\n      <td>a_little</td>\n      <td>a_little</td>\n      <td>moderately</td>\n      <td>...</td>\n      <td>yes</td>\n      <td>NaN</td>\n      <td>yes</td>\n      <td>لا أعلم</td>\n      <td>very_much</td>\n      <td>somewhat</td>\n      <td>very_much</td>\n      <td>very_much</td>\n      <td>NaN</td>\n      <td>NaN</td>\n    </tr>\n    <tr>\n      <th>105</th>\n      <td>bh</td>\n      <td>urfa</td>\n      <td>male</td>\n      <td>over_55</td>\n      <td>good</td>\n      <td>moderate_amount</td>\n      <td>moderate_amount</td>\n      <td>mostly</td>\n      <td>mostly</td>\n      <td>mostly</td>\n      <td>...</td>\n      <td>somewhat</td>\n      <td>NaN</td>\n      <td>no</td>\n      <td>NaN</td>\n      <td>very_much</td>\n      <td>a_little</td>\n      <td>somewhat</td>\n      <td>somewhat</td>\n      <td>NaN</td>\n      <td>لدي سؤال هل هذه المساعدة لمرة واحدة او قد تتكر...</td>\n    </tr>\n  </tbody>\n</table>\n<p>106 rows × 70 columns</p>\n</div>"
     },
     "execution_count": 4,
     "metadata": {},
     "output_type": "execute_result"
    }
   ],
   "source": [
    "baseline"
   ],
   "metadata": {
    "collapsed": false,
    "ExecuteTime": {
     "end_time": "2023-11-02T12:35:02.864231100Z",
     "start_time": "2023-11-02T12:35:02.826600100Z"
    }
   },
   "id": "1dd3c38570754b58"
  },
  {
   "cell_type": "code",
   "execution_count": 5,
   "outputs": [],
   "source": [
    "# processing order\n",
    "def to_string_list(f):\n",
    "   with open(f, 'r') as file:\n",
    "      elements = file.read().strip().split('\\n')\n",
    "   \n",
    "   formatted_element = [str(element) for element in elements]\n",
    "   \n",
    "   return formatted_element"
   ],
   "metadata": {
    "collapsed": false,
    "ExecuteTime": {
     "end_time": "2023-11-02T12:35:07.076916700Z",
     "start_time": "2023-11-02T12:35:07.067092700Z"
    }
   },
   "id": "32fe6314234daa4e"
  },
  {
   "cell_type": "code",
   "execution_count": 6,
   "outputs": [
    {
     "data": {
      "text/plain": "['under_18',\n '18-24',\n '25-55',\n 'over_55',\n 'agree',\n 'disagree',\n 'male',\n 'female',\n 'other',\n 'mersin',\n 'hatay',\n 'gaziantep',\n 'urfa',\n 'very_poor',\n 'poor',\n 'neither',\n 'good',\n 'very_good',\n '888',\n '999',\n 'very_dissatisfied',\n 'dissatisfied',\n 'neither',\n 'satisfied',\n 'very_satisfied',\n '888',\n '999',\n 'not_at_all',\n 'a_little',\n 'moderate_amount',\n 'very_much',\n 'extreme_amount',\n '888',\n '999',\n 'not_at_all',\n 'a_little',\n 'moderately',\n 'mostly',\n 'completely',\n '888',\n '999',\n 'never',\n 'seldom',\n 'quite_often',\n 'very_often',\n 'always',\n '888',\n '999',\n 'none',\n 'very_few',\n 'some',\n 'many',\n 'very_many',\n '888',\n '999',\n 'none',\n 'a_little',\n 'moderate_amount',\n 'quite_a_lot',\n 'very_much',\n '888',\n '999',\n 'strongly_disagree',\n 'disagree',\n 'neither',\n 'agree',\n 'strongly_agree',\n '888',\n '999',\n 'not_at_all',\n 'a_little',\n 'somewhat',\n 'very_much',\n 'totally',\n '888',\n '999',\n 'test',\n 'real',\n 'yes',\n 'no',\n '888',\n '999',\n 'yes',\n 'no',\n 'somewhat',\n '888',\n '999',\n 'outside',\n 'camp',\n 'family',\n 'other_house',\n 'same_house']"
     },
     "execution_count": 6,
     "metadata": {},
     "output_type": "execute_result"
    }
   ],
   "source": [
    "lst = to_string_list('order.txt')\n",
    "lst"
   ],
   "metadata": {
    "collapsed": false,
    "ExecuteTime": {
     "end_time": "2023-11-02T12:36:03.828498500Z",
     "start_time": "2023-11-02T12:36:03.809487400Z"
    }
   },
   "id": "9c5c72dbeeb096e6"
  },
  {
   "cell_type": "code",
   "execution_count": 14,
   "outputs": [],
   "source": [
    "def tabulation(df, variable, text_file):\n",
    "   series = df[variable]\n",
    "   order_map = to_string_list(text_file)\n",
    "   \n",
    "   counts_order = []\n",
    "   for x in order_map[:]:\n",
    "      if x in series.unique() and x not in counts_order:\n",
    "         counts_order.append(x)\n",
    "         order_map.remove(x) \n",
    "   counts = normalized_value_counts(series=series).reindex(counts_order)\n",
    "   counts.to_clipboard()\n",
    "   \n",
    "   return counts"
   ],
   "metadata": {
    "collapsed": false,
    "ExecuteTime": {
     "end_time": "2023-11-02T13:07:02.278141500Z",
     "start_time": "2023-11-02T13:07:02.244472100Z"
    }
   },
   "id": "57ba63057e4b1583"
  },
  {
   "cell_type": "code",
   "execution_count": 16,
   "outputs": [
    {
     "data": {
      "text/plain": "                    N       %\nqual_life2                   \nneither            25  23.58%\nvery_dissatisfied   7    6.6%\ndissatisfied       27  25.47%\nsatisfied          41  38.68%\nvery_satisfied      6   5.66%",
      "text/html": "<div>\n<style scoped>\n    .dataframe tbody tr th:only-of-type {\n        vertical-align: middle;\n    }\n\n    .dataframe tbody tr th {\n        vertical-align: top;\n    }\n\n    .dataframe thead th {\n        text-align: right;\n    }\n</style>\n<table border=\"1\" class=\"dataframe\">\n  <thead>\n    <tr style=\"text-align: right;\">\n      <th></th>\n      <th>N</th>\n      <th>%</th>\n    </tr>\n    <tr>\n      <th>qual_life2</th>\n      <th></th>\n      <th></th>\n    </tr>\n  </thead>\n  <tbody>\n    <tr>\n      <th>neither</th>\n      <td>25</td>\n      <td>23.58%</td>\n    </tr>\n    <tr>\n      <th>very_dissatisfied</th>\n      <td>7</td>\n      <td>6.6%</td>\n    </tr>\n    <tr>\n      <th>dissatisfied</th>\n      <td>27</td>\n      <td>25.47%</td>\n    </tr>\n    <tr>\n      <th>satisfied</th>\n      <td>41</td>\n      <td>38.68%</td>\n    </tr>\n    <tr>\n      <th>very_satisfied</th>\n      <td>6</td>\n      <td>5.66%</td>\n    </tr>\n  </tbody>\n</table>\n</div>"
     },
     "execution_count": 16,
     "metadata": {},
     "output_type": "execute_result"
    }
   ],
   "source": [
    "question = 'qual_life2'\n",
    "tabulation(baseline, question, 'order.txt')\n",
    "# output_file = 'single_variables.xlsx'"
   ],
   "metadata": {
    "collapsed": false,
    "ExecuteTime": {
     "end_time": "2023-11-02T13:07:20.551051700Z",
     "start_time": "2023-11-02T13:07:20.505643Z"
    }
   },
   "id": "1cd1e513e0330703"
  },
  {
   "cell_type": "code",
   "execution_count": null,
   "outputs": [],
   "source": [
    "# Create a Pandas Excel writer using XlsxWriter as the engine.\n",
    "# with pd.ExcelWriter(output_file, engine='xlsxwriter') as writer:\n",
    "#    for var in question:\n",
    "#       Check if the variable exists in the dataframe\n",
    "#       if var in baseline.columns:\n",
    "         # Apply your function to the variable, and get the results\n",
    "         # result_df = normalized_value_counts(baseline[var])\n",
    "         # Write each DataFrame to a specific sheet\n",
    "         # result_df.to_excel(writer, sheet_name=var)\n",
    "      # else:\n",
    "      #    print(f\"Variable {var} not found in DataFrame.\")"
   ],
   "metadata": {
    "collapsed": false
   },
   "id": "2e0c6acd765903ab"
  },
  {
   "cell_type": "code",
   "execution_count": null,
   "outputs": [],
   "source": [
    "baseline['network_size'].value_counts()"
   ],
   "metadata": {
    "collapsed": false
   },
   "id": "6550da05f01d01a1"
  },
  {
   "cell_type": "code",
   "execution_count": null,
   "outputs": [],
   "source": [
    "# baseline['relative_support2'].value_counts(normalize=True) * 100"
   ],
   "metadata": {
    "collapsed": false
   },
   "id": "dea777515fe075e8"
  },
  {
   "cell_type": "code",
   "execution_count": null,
   "outputs": [],
   "source": [],
   "metadata": {
    "collapsed": false
   },
   "id": "220e9332f8c92407"
  }
 ],
 "metadata": {
  "kernelspec": {
   "display_name": "Python 3",
   "language": "python",
   "name": "python3"
  },
  "language_info": {
   "codemirror_mode": {
    "name": "ipython",
    "version": 2
   },
   "file_extension": ".py",
   "mimetype": "text/x-python",
   "name": "python",
   "nbconvert_exporter": "python",
   "pygments_lexer": "ipython2",
   "version": "2.7.6"
  }
 },
 "nbformat": 4,
 "nbformat_minor": 5
}
