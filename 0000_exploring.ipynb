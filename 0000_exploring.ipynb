{
 "cells": [
  {
   "cell_type": "code",
   "execution_count": 3,
   "id": "initial_id",
   "metadata": {
    "collapsed": true,
    "ExecuteTime": {
     "end_time": "2023-10-13T23:58:27.539569100Z",
     "start_time": "2023-10-13T23:58:26.980443400Z"
    }
   },
   "outputs": [],
   "source": [
    "import pandas as pd\n",
    "# import numpy as np"
   ]
  },
  {
   "cell_type": "code",
   "execution_count": 4,
   "outputs": [],
   "source": [
    "def normalized_value_counts(series):\n",
    "   counts = series.value_counts(sort=True)\n",
    "   percentages = series.value_counts(normalize=True, sort=True).mul(100).round(2).astype(str) + '%'\n",
    "   # result = pd.concat([counts, percentages], axis=1, keys=['N', '%'])\n",
    "   result = pd.DataFrame({\n",
    "      'N': counts,\n",
    "      '%': percentages\n",
    "   })\n",
    "   return result"
   ],
   "metadata": {
    "collapsed": false,
    "ExecuteTime": {
     "end_time": "2023-10-13T23:58:30.508550400Z",
     "start_time": "2023-10-13T23:58:30.483525400Z"
    }
   },
   "id": "53424471859c10ee"
  },
  {
   "cell_type": "code",
   "execution_count": 5,
   "outputs": [],
   "source": [
    "# codebook = pd.read_excel('codebook.xlsx')\n",
    "from var_names import *\n",
    "baseline = pd.read_csv('tba_data.csv')"
   ],
   "metadata": {
    "collapsed": false,
    "ExecuteTime": {
     "end_time": "2023-10-13T23:58:31.853541900Z",
     "start_time": "2023-10-13T23:58:31.810534Z"
    }
   },
   "id": "30c09eb881717da0"
  },
  {
   "cell_type": "code",
   "execution_count": 6,
   "outputs": [
    {
     "data": {
      "text/plain": "    enumerator_name   location  gender age_range qual_life1       qual_life8  \\\n0                sb  gaziantep    male     25-55       good       not_at_all   \n1                sb  gaziantep    male     25-55       good       not_at_all   \n2                sb  gaziantep    male     25-55    neither  moderate_amount   \n3                sb  gaziantep    male     25-55    neither       not_at_all   \n4                sb  gaziantep  female   over_55  very_poor       not_at_all   \n..              ...        ...     ...       ...        ...              ...   \n101              bh       urfa    male     25-55       good   extreme_amount   \n102              bh       urfa    male     25-55       poor       not_at_all   \n103              bh       urfa    male   over_55    neither       not_at_all   \n104              bh       urfa  female     25-55    neither         a_little   \n105              bh       urfa    male   over_55       good  moderate_amount   \n\n          qual_life9 qual_life12 qual_life13 qual_life14  ...  rapport3  \\\n0    moderate_amount  completely    a_little    a_little  ...       yes   \n1    moderate_amount  moderately      mostly    a_little  ...       yes   \n2          very_much  not_at_all      mostly  not_at_all  ...       yes   \n3          very_much    a_little  moderately    a_little  ...       yes   \n4           a_little    a_little    a_little  moderately  ...       yes   \n..               ...         ...         ...         ...  ...       ...   \n101         a_little  moderately    a_little  completely  ...  somewhat   \n102         a_little  moderately    a_little  completely  ...       yes   \n103         a_little  not_at_all      mostly  not_at_all  ...       yes   \n104  moderate_amount    a_little    a_little  moderately  ...       yes   \n105  moderate_amount      mostly      mostly      mostly  ...  somewhat   \n\n                partner_feedback security1  \\\n0                تشكر الجهود فقط        no   \n1      كانو متعاونين إلى حد كبير        no   \n2    مسرور من المشاركين بالمشروع        no   \n3                    لا كل الشكر        no   \n4                        مشكورين        no   \n..                           ...       ...   \n101                          NaN        no   \n102                          NaN        no   \n103                          NaN       yes   \n104                          NaN       yes   \n105                          NaN        no   \n\n                                             security2 recognition  \\\n0                                                  NaN   very_much   \n1                                                  NaN   very_much   \n2                                                  NaN     totally   \n3                                                  NaN   very_much   \n4                                                  NaN   very_much   \n..                                                 ...         ...   \n101                                                NaN    somewhat   \n102                                                NaN     totally   \n103  اتخوف من تسرب المعلومات الشخصية للمشاركين وذلك...    somewhat   \n104                                            لا أعلم   very_much   \n105                                                NaN   very_much   \n\n        justice recognition_justice     dignity  \\\n0     very_much           very_much   very_much   \n1      a_little            a_little    somewhat   \n2       totally           very_much   very_much   \n3     very_much             totally   very_much   \n4     very_much           very_much    somewhat   \n..          ...                 ...         ...   \n101  not_at_all          not_at_all  not_at_all   \n102     totally             totally     totally   \n103    a_little             totally    somewhat   \n104    somewhat           very_much   very_much   \n105    a_little            somewhat    somewhat   \n\n                                         emergency_irm  \\\n0                                          نقلة المنزل   \n1             صرف على أجور المعيشة والتنقل وقت الزلزال   \n2                                 اجار منزل في اسطنبول   \n3                                          اجار للمنزل   \n4           ساعدت فيه ابنتي ودفعت اجار البيت والفواتير   \n..                                                 ...   \n101                                                NaN   \n102  المستلزمات الأساسية خلال فترة الزلزال التي خرج...   \n103                                                NaN   \n104                                                NaN   \n105                                                NaN   \n\n                                              comments  \n0                                                   لا  \n1    يفضل ان يتم إعطاء الدعم المناسب لكل حالة حسب و...  \n2                                                   لا  \n3        يفضل ان يسرع المشروع بسبب الحاجة للدعم المادي  \n4    اتمنى ان يتم اضافة المساعدات الطبية من حيث الت...  \n..                                                 ...  \n101                                                NaN  \n102  اتمنى ان يكون المبلغ جيد بما يكفي احتياجي لإجر...  \n103  انا كفيل للأيتام وأرجو مساعدتي بتأمين أجور تدر...  \n104                                                NaN  \n105  لدي سؤال هل هذه المساعدة لمرة واحدة او قد تتكر...  \n\n[106 rows x 70 columns]",
      "text/html": "<div>\n<style scoped>\n    .dataframe tbody tr th:only-of-type {\n        vertical-align: middle;\n    }\n\n    .dataframe tbody tr th {\n        vertical-align: top;\n    }\n\n    .dataframe thead th {\n        text-align: right;\n    }\n</style>\n<table border=\"1\" class=\"dataframe\">\n  <thead>\n    <tr style=\"text-align: right;\">\n      <th></th>\n      <th>enumerator_name</th>\n      <th>location</th>\n      <th>gender</th>\n      <th>age_range</th>\n      <th>qual_life1</th>\n      <th>qual_life8</th>\n      <th>qual_life9</th>\n      <th>qual_life12</th>\n      <th>qual_life13</th>\n      <th>qual_life14</th>\n      <th>...</th>\n      <th>rapport3</th>\n      <th>partner_feedback</th>\n      <th>security1</th>\n      <th>security2</th>\n      <th>recognition</th>\n      <th>justice</th>\n      <th>recognition_justice</th>\n      <th>dignity</th>\n      <th>emergency_irm</th>\n      <th>comments</th>\n    </tr>\n  </thead>\n  <tbody>\n    <tr>\n      <th>0</th>\n      <td>sb</td>\n      <td>gaziantep</td>\n      <td>male</td>\n      <td>25-55</td>\n      <td>good</td>\n      <td>not_at_all</td>\n      <td>moderate_amount</td>\n      <td>completely</td>\n      <td>a_little</td>\n      <td>a_little</td>\n      <td>...</td>\n      <td>yes</td>\n      <td>تشكر الجهود فقط</td>\n      <td>no</td>\n      <td>NaN</td>\n      <td>very_much</td>\n      <td>very_much</td>\n      <td>very_much</td>\n      <td>very_much</td>\n      <td>نقلة المنزل</td>\n      <td>لا</td>\n    </tr>\n    <tr>\n      <th>1</th>\n      <td>sb</td>\n      <td>gaziantep</td>\n      <td>male</td>\n      <td>25-55</td>\n      <td>good</td>\n      <td>not_at_all</td>\n      <td>moderate_amount</td>\n      <td>moderately</td>\n      <td>mostly</td>\n      <td>a_little</td>\n      <td>...</td>\n      <td>yes</td>\n      <td>كانو متعاونين إلى حد كبير</td>\n      <td>no</td>\n      <td>NaN</td>\n      <td>very_much</td>\n      <td>a_little</td>\n      <td>a_little</td>\n      <td>somewhat</td>\n      <td>صرف على أجور المعيشة والتنقل وقت الزلزال</td>\n      <td>يفضل ان يتم إعطاء الدعم المناسب لكل حالة حسب و...</td>\n    </tr>\n    <tr>\n      <th>2</th>\n      <td>sb</td>\n      <td>gaziantep</td>\n      <td>male</td>\n      <td>25-55</td>\n      <td>neither</td>\n      <td>moderate_amount</td>\n      <td>very_much</td>\n      <td>not_at_all</td>\n      <td>mostly</td>\n      <td>not_at_all</td>\n      <td>...</td>\n      <td>yes</td>\n      <td>مسرور من المشاركين بالمشروع</td>\n      <td>no</td>\n      <td>NaN</td>\n      <td>totally</td>\n      <td>totally</td>\n      <td>very_much</td>\n      <td>very_much</td>\n      <td>اجار منزل في اسطنبول</td>\n      <td>لا</td>\n    </tr>\n    <tr>\n      <th>3</th>\n      <td>sb</td>\n      <td>gaziantep</td>\n      <td>male</td>\n      <td>25-55</td>\n      <td>neither</td>\n      <td>not_at_all</td>\n      <td>very_much</td>\n      <td>a_little</td>\n      <td>moderately</td>\n      <td>a_little</td>\n      <td>...</td>\n      <td>yes</td>\n      <td>لا كل الشكر</td>\n      <td>no</td>\n      <td>NaN</td>\n      <td>very_much</td>\n      <td>very_much</td>\n      <td>totally</td>\n      <td>very_much</td>\n      <td>اجار للمنزل</td>\n      <td>يفضل ان يسرع المشروع بسبب الحاجة للدعم المادي</td>\n    </tr>\n    <tr>\n      <th>4</th>\n      <td>sb</td>\n      <td>gaziantep</td>\n      <td>female</td>\n      <td>over_55</td>\n      <td>very_poor</td>\n      <td>not_at_all</td>\n      <td>a_little</td>\n      <td>a_little</td>\n      <td>a_little</td>\n      <td>moderately</td>\n      <td>...</td>\n      <td>yes</td>\n      <td>مشكورين</td>\n      <td>no</td>\n      <td>NaN</td>\n      <td>very_much</td>\n      <td>very_much</td>\n      <td>very_much</td>\n      <td>somewhat</td>\n      <td>ساعدت فيه ابنتي ودفعت اجار البيت والفواتير</td>\n      <td>اتمنى ان يتم اضافة المساعدات الطبية من حيث الت...</td>\n    </tr>\n    <tr>\n      <th>...</th>\n      <td>...</td>\n      <td>...</td>\n      <td>...</td>\n      <td>...</td>\n      <td>...</td>\n      <td>...</td>\n      <td>...</td>\n      <td>...</td>\n      <td>...</td>\n      <td>...</td>\n      <td>...</td>\n      <td>...</td>\n      <td>...</td>\n      <td>...</td>\n      <td>...</td>\n      <td>...</td>\n      <td>...</td>\n      <td>...</td>\n      <td>...</td>\n      <td>...</td>\n      <td>...</td>\n    </tr>\n    <tr>\n      <th>101</th>\n      <td>bh</td>\n      <td>urfa</td>\n      <td>male</td>\n      <td>25-55</td>\n      <td>good</td>\n      <td>extreme_amount</td>\n      <td>a_little</td>\n      <td>moderately</td>\n      <td>a_little</td>\n      <td>completely</td>\n      <td>...</td>\n      <td>somewhat</td>\n      <td>NaN</td>\n      <td>no</td>\n      <td>NaN</td>\n      <td>somewhat</td>\n      <td>not_at_all</td>\n      <td>not_at_all</td>\n      <td>not_at_all</td>\n      <td>NaN</td>\n      <td>NaN</td>\n    </tr>\n    <tr>\n      <th>102</th>\n      <td>bh</td>\n      <td>urfa</td>\n      <td>male</td>\n      <td>25-55</td>\n      <td>poor</td>\n      <td>not_at_all</td>\n      <td>a_little</td>\n      <td>moderately</td>\n      <td>a_little</td>\n      <td>completely</td>\n      <td>...</td>\n      <td>yes</td>\n      <td>NaN</td>\n      <td>no</td>\n      <td>NaN</td>\n      <td>totally</td>\n      <td>totally</td>\n      <td>totally</td>\n      <td>totally</td>\n      <td>المستلزمات الأساسية خلال فترة الزلزال التي خرج...</td>\n      <td>اتمنى ان يكون المبلغ جيد بما يكفي احتياجي لإجر...</td>\n    </tr>\n    <tr>\n      <th>103</th>\n      <td>bh</td>\n      <td>urfa</td>\n      <td>male</td>\n      <td>over_55</td>\n      <td>neither</td>\n      <td>not_at_all</td>\n      <td>a_little</td>\n      <td>not_at_all</td>\n      <td>mostly</td>\n      <td>not_at_all</td>\n      <td>...</td>\n      <td>yes</td>\n      <td>NaN</td>\n      <td>yes</td>\n      <td>اتخوف من تسرب المعلومات الشخصية للمشاركين وذلك...</td>\n      <td>somewhat</td>\n      <td>a_little</td>\n      <td>totally</td>\n      <td>somewhat</td>\n      <td>NaN</td>\n      <td>انا كفيل للأيتام وأرجو مساعدتي بتأمين أجور تدر...</td>\n    </tr>\n    <tr>\n      <th>104</th>\n      <td>bh</td>\n      <td>urfa</td>\n      <td>female</td>\n      <td>25-55</td>\n      <td>neither</td>\n      <td>a_little</td>\n      <td>moderate_amount</td>\n      <td>a_little</td>\n      <td>a_little</td>\n      <td>moderately</td>\n      <td>...</td>\n      <td>yes</td>\n      <td>NaN</td>\n      <td>yes</td>\n      <td>لا أعلم</td>\n      <td>very_much</td>\n      <td>somewhat</td>\n      <td>very_much</td>\n      <td>very_much</td>\n      <td>NaN</td>\n      <td>NaN</td>\n    </tr>\n    <tr>\n      <th>105</th>\n      <td>bh</td>\n      <td>urfa</td>\n      <td>male</td>\n      <td>over_55</td>\n      <td>good</td>\n      <td>moderate_amount</td>\n      <td>moderate_amount</td>\n      <td>mostly</td>\n      <td>mostly</td>\n      <td>mostly</td>\n      <td>...</td>\n      <td>somewhat</td>\n      <td>NaN</td>\n      <td>no</td>\n      <td>NaN</td>\n      <td>very_much</td>\n      <td>a_little</td>\n      <td>somewhat</td>\n      <td>somewhat</td>\n      <td>NaN</td>\n      <td>لدي سؤال هل هذه المساعدة لمرة واحدة او قد تتكر...</td>\n    </tr>\n  </tbody>\n</table>\n<p>106 rows × 70 columns</p>\n</div>"
     },
     "execution_count": 6,
     "metadata": {},
     "output_type": "execute_result"
    }
   ],
   "source": [
    "baseline"
   ],
   "metadata": {
    "collapsed": false,
    "ExecuteTime": {
     "end_time": "2023-10-13T23:58:33.042349Z",
     "start_time": "2023-10-13T23:58:33.017344300Z"
    }
   },
   "id": "1dd3c38570754b58"
  },
  {
   "cell_type": "code",
   "execution_count": 8,
   "outputs": [
    {
     "data": {
      "text/plain": "pandas.core.frame.DataFrame"
     },
     "execution_count": 8,
     "metadata": {},
     "output_type": "execute_result"
    }
   ],
   "source": [
    "data = baseline['qual_life1']\n",
    "qual1 = normalized_value_counts(series=data)\n",
    "type(qual1)"
   ],
   "metadata": {
    "collapsed": false,
    "ExecuteTime": {
     "end_time": "2023-10-13T23:59:17.628047100Z",
     "start_time": "2023-10-13T23:59:17.586039500Z"
    }
   },
   "id": "54c80fa37ba8205c"
  },
  {
   "cell_type": "code",
   "execution_count": null,
   "outputs": [],
   "source": [
    "data = baseline['qual_life2']\n",
    "normalized_value_counts(series=data)"
   ],
   "metadata": {
    "collapsed": false
   },
   "id": "951d4ba4cb384063"
  },
  {
   "cell_type": "code",
   "execution_count": null,
   "outputs": [],
   "source": [
    "data = baseline['qual_life3']\n",
    "normalized_value_counts(series=data)"
   ],
   "metadata": {
    "collapsed": false
   },
   "id": "e7829dc9a0b8c001"
  },
  {
   "cell_type": "code",
   "execution_count": null,
   "outputs": [],
   "source": [
    "# Create a Pandas Excel writer using XlsxWriter as the engine.\n",
    "with pd.ExcelWriter(\"output.xlsx\", engine='xlsxwriter') as writer:\n",
    "   for var in qul_life:\n",
    "      # Check if the variable exists in the dataframe\n",
    "      if var in baseline.columns:\n",
    "         # Apply your function to the variable, and get the results\n",
    "         result_df = normalized_value_counts(baseline[var])\n",
    "         # Write each DataFrame to a specific sheet\n",
    "         result_df.to_excel(writer, sheet_name=var)\n",
    "      else:\n",
    "         print(f\"Variable {var} not found in DataFrame.\")"
   ],
   "metadata": {
    "collapsed": false
   },
   "id": "1cd1e513e0330703"
  },
  {
   "cell_type": "code",
   "execution_count": null,
   "outputs": [],
   "source": [
    "# get_value_counts_and_percentages(baseline['qual_life1'])"
   ],
   "metadata": {
    "collapsed": false
   },
   "id": "2e0c6acd765903ab"
  }
 ],
 "metadata": {
  "kernelspec": {
   "display_name": "Python 3",
   "language": "python",
   "name": "python3"
  },
  "language_info": {
   "codemirror_mode": {
    "name": "ipython",
    "version": 2
   },
   "file_extension": ".py",
   "mimetype": "text/x-python",
   "name": "python",
   "nbconvert_exporter": "python",
   "pygments_lexer": "ipython2",
   "version": "2.7.6"
  }
 },
 "nbformat": 4,
 "nbformat_minor": 5
}
