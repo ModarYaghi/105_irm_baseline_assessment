{
 "cells": [
  {
   "cell_type": "code",
   "execution_count": null,
   "id": "initial_id",
   "metadata": {
    "collapsed": true
   },
   "outputs": [],
   "source": [
    "import pandas as pd\n",
    "# import numpy as np"
   ]
  },
  {
   "cell_type": "code",
   "execution_count": null,
   "outputs": [],
   "source": [
    "def normalized_value_counts(series):\n",
    "   counts = series.value_counts(dropna=False)\n",
    "   percentages = series.value_counts(normalize=True, dropna=False).mul(100).round(2).astype(str) + '%'\n",
    "   # result = pd.concat([counts, percentages], axis=1, keys=['N', '%'])\n",
    "   result = pd.DataFrame({\n",
    "      'N': counts,\n",
    "      '%': percentages\n",
    "   })\n",
    "   return result"
   ],
   "metadata": {
    "collapsed": false
   },
   "id": "53424471859c10ee"
  },
  {
   "cell_type": "code",
   "execution_count": null,
   "outputs": [],
   "source": [
    "# codebook = pd.read_excel('codebook.xlsx')\n",
    "from var_names import *\n",
    "baseline = pd.read_csv('tba_data.csv')"
   ],
   "metadata": {
    "collapsed": false
   },
   "id": "30c09eb881717da0"
  },
  {
   "cell_type": "code",
   "execution_count": null,
   "outputs": [],
   "source": [
    "baseline"
   ],
   "metadata": {
    "collapsed": false
   },
   "id": "1dd3c38570754b58"
  },
  {
   "cell_type": "code",
   "execution_count": null,
   "outputs": [],
   "source": [
    "# processing order\n",
    "def to_string_list(f):\n",
    "   with open(f, 'r') as file:\n",
    "      elements = file.read().strip().split('\\n')\n",
    "   formatted_element = [str(element) for element in elements]\n",
    "   \n",
    "   return formatted_element"
   ],
   "metadata": {
    "collapsed": false
   },
   "id": "32fe6314234daa4e"
  },
  {
   "cell_type": "code",
   "execution_count": null,
   "outputs": [],
   "source": [
    "lst = to_string_list('order.txt')\n",
    "lst"
   ],
   "metadata": {
    "collapsed": false
   },
   "id": "9c5c72dbeeb096e6"
  },
  {
   "cell_type": "code",
   "execution_count": null,
   "outputs": [],
   "source": [
    "def tabulation(df, variable, text_file):\n",
    "   series = df[variable]\n",
    "   order_map = to_string_list(text_file)\n",
    "   \n",
    "   counts_order = []\n",
    "   for x in order_map[:]:\n",
    "      if x in series.unique() and x not in counts_order:\n",
    "         counts_order.append(x)\n",
    "         order_map.remove(x) \n",
    "   counts = normalized_value_counts(series=series).reindex(counts_order)\n",
    "   counts.to_clipboard()\n",
    "   \n",
    "   return counts"
   ],
   "metadata": {
    "collapsed": false
   },
   "id": "57ba63057e4b1583"
  },
  {
   "cell_type": "code",
   "execution_count": null,
   "outputs": [],
   "source": [
    "question = 'qual_life2'\n",
    "tabulation(baseline, question, 'order.txt')\n",
    "# output_file = 'single_variables.xlsx'"
   ],
   "metadata": {
    "collapsed": false
   },
   "id": "1cd1e513e0330703"
  },
  {
   "cell_type": "code",
   "execution_count": null,
   "outputs": [],
   "source": [
    "# Create a Pandas Excel writer using XlsxWriter as the engine.\n",
    "# with pd.ExcelWriter(output_file, engine='xlsxwriter') as writer:\n",
    "#    for var in question:\n",
    "#       Check if the variable exists in the dataframe\n",
    "#       if var in baseline.columns:\n",
    "         # Apply your function to the variable, and get the results\n",
    "         # result_df = normalized_value_counts(baseline[var])\n",
    "         # Write each DataFrame to a specific sheet\n",
    "         # result_df.to_excel(writer, sheet_name=var)\n",
    "      # else:\n",
    "      #    print(f\"Variable {var} not found in DataFrame.\")"
   ],
   "metadata": {
    "collapsed": false
   },
   "id": "2e0c6acd765903ab"
  },
  {
   "cell_type": "code",
   "execution_count": null,
   "outputs": [],
   "source": [
    "baseline['network_size'].value_counts()"
   ],
   "metadata": {
    "collapsed": false
   },
   "id": "6550da05f01d01a1"
  },
  {
   "cell_type": "code",
   "execution_count": null,
   "outputs": [],
   "source": [
    "# baseline['relative_support2'].value_counts(normalize=True) * 100"
   ],
   "metadata": {
    "collapsed": false
   },
   "id": "dea777515fe075e8"
  },
  {
   "cell_type": "code",
   "execution_count": null,
   "outputs": [],
   "source": [],
   "metadata": {
    "collapsed": false
   },
   "id": "220e9332f8c92407"
  }
 ],
 "metadata": {
  "kernelspec": {
   "display_name": "Python 3",
   "language": "python",
   "name": "python3"
  },
  "language_info": {
   "codemirror_mode": {
    "name": "ipython",
    "version": 2
   },
   "file_extension": ".py",
   "mimetype": "text/x-python",
   "name": "python",
   "nbconvert_exporter": "python",
   "pygments_lexer": "ipython2",
   "version": "2.7.6"
  }
 },
 "nbformat": 4,
 "nbformat_minor": 5
}
