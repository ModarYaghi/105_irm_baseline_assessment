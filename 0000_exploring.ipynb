{
 "cells": [
  {
   "cell_type": "code",
   "execution_count": null,
   "id": "initial_id",
   "metadata": {
    "collapsed": true
   },
   "outputs": [],
   "source": [
    "import pandas as pd\n",
    "from var_names import *\n",
    "# import numpy as np"
   ]
  },
  {
   "cell_type": "code",
   "execution_count": null,
   "outputs": [],
   "source": [
    "def normalized_value_counts(series):\n",
    "   \"\"\"Calculate value counts and percentages for a pandas Series.\"\"\"\n",
    "   counts = series.value_counts(dropna=False)\n",
    "   percentages = series.value_counts(normalize=True, dropna=False).mul(100).round(2).astype(str) + '%'\n",
    "   # result = pd.concat([counts, percentages], axis=1, keys=['N', '%'])\n",
    "   result = pd.DataFrame({\n",
    "      'N': counts,\n",
    "      '%': percentages\n",
    "   })\n",
    "   return result"
   ],
   "metadata": {
    "collapsed": false
   },
   "id": "53424471859c10ee"
  },
  {
   "cell_type": "code",
   "execution_count": null,
   "outputs": [],
   "source": [
    "# codebook = pd.read_excel('codebook.xlsx')\n",
    "baseline = pd.read_csv('tba_data.csv')"
   ],
   "metadata": {
    "collapsed": false
   },
   "id": "30c09eb881717da0"
  },
  {
   "cell_type": "code",
   "execution_count": null,
   "outputs": [],
   "source": [
    "baseline"
   ],
   "metadata": {
    "collapsed": false
   },
   "id": "1dd3c38570754b58"
  },
  {
   "cell_type": "code",
   "execution_count": null,
   "outputs": [],
   "source": [
    "# processing order\n",
    "def to_string_list(filepath):\n",
    "   \"\"\"Read elements from a file into a list.\"\"\"\n",
    "   try:\n",
    "      with open(filepath, 'r') as file:\n",
    "         elements = file.read().strip().split('\\n')\n",
    "      return [str(element) for element in elements]\n",
    "   except IOError as e:\n",
    "      print(f\"An error occurred: {e.strerror}\")\n",
    "      return []"
   ],
   "metadata": {
    "collapsed": false
   },
   "id": "32fe6314234daa4e"
  },
  {
   "cell_type": "code",
   "execution_count": null,
   "outputs": [],
   "source": [
    "def remove_sequence(lst1, lst2):\n",
    "   # Find the start of the matching sequence\n",
    "   start_index = None\n",
    "   for i in range(len(lst1) - len(lst2) + 1):\n",
    "      if lst1[i:i + len(lst2)] == lst2:\n",
    "         start_index = i\n",
    "         break\n",
    "   # If the sequence was found, remove it\n",
    "   if start_index is not None:\n",
    "      del lst1[start_index:start_index + len(lst2)]\n",
    "   return lst1"
   ],
   "metadata": {
    "collapsed": false
   },
   "id": "768df8d5977dbb7b"
  },
  {
   "cell_type": "code",
   "execution_count": null,
   "outputs": [],
   "source": [
    "order_list = to_string_list('order.txt')"
   ],
   "metadata": {
    "collapsed": false
   },
   "id": "d100304cf6dd64ca"
  },
  {
   "cell_type": "code",
   "execution_count": null,
   "outputs": [],
   "source": [
    "# order_map"
   ],
   "metadata": {
    "collapsed": false
   },
   "id": "9c5c72dbeeb096e6"
  },
  {
   "cell_type": "code",
   "execution_count": null,
   "outputs": [],
   "source": [
    "def tabulation(df, variable, order_list):\n",
    "   \"\"\"Tabulate value counts for a specific variable in a DataFrame.\"\"\"\n",
    "   series = df[variable]\n",
    "   counts_order = [x for x in order_list if x in series.unique()]\n",
    "   counts = normalized_value_counts(series=series).reindex(counts_order)\n",
    "   new_order_list = remove_sequence(order_list, counts_order)\n",
    "   return counts, new_order_list"
   ],
   "metadata": {
    "collapsed": false
   },
   "id": "57ba63057e4b1583"
  },
  {
   "cell_type": "code",
   "execution_count": null,
   "outputs": [],
   "source": [
    "question = 'qual_life2'\n",
    "counts, order_list = tabulation(baseline, question, order_list)\n",
    "# output_file = 'single_variables.xlsx'"
   ],
   "metadata": {
    "collapsed": false
   },
   "id": "1cd1e513e0330703"
  },
  {
   "cell_type": "code",
   "execution_count": null,
   "outputs": [],
   "source": [
    "# Create a Pandas Excel writer using XlsxWriter as the engine.\n",
    "# with pd.ExcelWriter(output_file, engine='xlsxwriter') as writer:\n",
    "#    for var in question:\n",
    "#       Check if the variable exists in the dataframe\n",
    "#       if var in baseline.columns:\n",
    "         # Apply your function to the variable, and get the results\n",
    "         # result_df = normalized_value_counts(baseline[var])\n",
    "         # Write each DataFrame to a specific sheet\n",
    "         # result_df.to_excel(writer, sheet_name=var)\n",
    "      # else:\n",
    "      #    print(f\"Variable {var} not found in DataFrame.\")"
   ],
   "metadata": {
    "collapsed": false
   },
   "id": "2e0c6acd765903ab"
  },
  {
   "cell_type": "code",
   "execution_count": null,
   "outputs": [],
   "source": [
    "baseline['network_size'].value_counts()"
   ],
   "metadata": {
    "collapsed": false
   },
   "id": "6550da05f01d01a1"
  },
  {
   "cell_type": "code",
   "execution_count": null,
   "outputs": [],
   "source": [
    "# baseline['relative_support2'].value_counts(normalize=True) * 100"
   ],
   "metadata": {
    "collapsed": false
   },
   "id": "dea777515fe075e8"
  },
  {
   "cell_type": "code",
   "execution_count": null,
   "outputs": [],
   "source": [],
   "metadata": {
    "collapsed": false
   },
   "id": "220e9332f8c92407"
  }
 ],
 "metadata": {
  "kernelspec": {
   "display_name": "Python 3",
   "language": "python",
   "name": "python3"
  },
  "language_info": {
   "codemirror_mode": {
    "name": "ipython",
    "version": 2
   },
   "file_extension": ".py",
   "mimetype": "text/x-python",
   "name": "python",
   "nbconvert_exporter": "python",
   "pygments_lexer": "ipython2",
   "version": "2.7.6"
  }
 },
 "nbformat": 4,
 "nbformat_minor": 5
}
