{
 "cells": [
  {
   "cell_type": "code",
   "execution_count": 1,
   "id": "initial_id",
   "metadata": {
    "collapsed": true,
    "ExecuteTime": {
     "end_time": "2023-11-07T10:58:39.072966800Z",
     "start_time": "2023-11-07T10:58:38.478505800Z"
    }
   },
   "outputs": [],
   "source": [
    "import pandas as pd\n",
    "from var_names import *\n",
    "# import numpy as np\n",
    "import yaml"
   ]
  },
  {
   "cell_type": "code",
   "execution_count": 2,
   "outputs": [],
   "source": [
    "# read variables' categories file\n",
    "def read_categories_file(file_path):\n",
    "    \"\"\"Read variables and their categories from a YAML file.\"\"\"\n",
    "    try:\n",
    "        with open(file_path, 'r') as file:\n",
    "            categories_dictionary = yaml.safe_load(file)\n",
    "        return categories_dictionary\n",
    "    except IOError as e:\n",
    "        print(f\"An error occurred: {e.strerror}\")\n",
    "    except yaml.YAMLError as exc:\n",
    "        print(f\"YAML error: {exc}\")\n",
    "    return {}"
   ],
   "metadata": {
    "collapsed": false,
    "ExecuteTime": {
     "end_time": "2023-11-07T10:58:40.034433100Z",
     "start_time": "2023-11-07T10:58:40.023105800Z"
    }
   },
   "id": "52b30cc254e1c465"
  },
  {
   "cell_type": "code",
   "execution_count": 3,
   "outputs": [],
   "source": [
    "# Map variables to its respective category sets\n",
    "def apply_categories_to_variables(categories_dictionary):\n",
    "    \"\"\"This function for linking each variable (questions) with possible values (categories)\"\"\"\n",
    "    category_set = categories_dictionary['categories']  # all categories; references and variables' choices\n",
    "    variable_mappings = categories_dictionary['variables']  # all variables; (questions) and references to categories\n",
    "    \n",
    "    categories_sets = {}\n",
    "    for var in variable_mappings:\n",
    "        var_name = var['name']  # all variables; (questions)\n",
    "        category_set_name = var['category_set']  # all references to categories\n",
    "        # Filling the dictionary with the key: variable and value: choice's categories.\n",
    "        # This dictionary links between each variable with possible values\n",
    "        categories_sets[var_name] = category_set[category_set_name]\n",
    "    \n",
    "    return categories_sets"
   ],
   "metadata": {
    "collapsed": false,
    "ExecuteTime": {
     "end_time": "2023-11-07T10:58:41.533517300Z",
     "start_time": "2023-11-07T10:58:41.511865200Z"
    }
   },
   "id": "eba5bba84c3d6665"
  },
  {
   "cell_type": "code",
   "execution_count": 4,
   "outputs": [],
   "source": [
    "def frequency_distribution(series, variable_categories):\n",
    "    \"\"\"Calculate value counts and percentages for a pandas Series including all possible categories.\"\"\"\n",
    "    # Convert the series to a categorical series with the specified categories\n",
    "    categorical_series = pd.Categorical(series, categories=variable_categories)\n",
    "    \n",
    "    # Calculate frequency counts and percentages\n",
    "    freq_count = pd.Series(categorical_series).value_counts(dropna=False).sort_index()\n",
    "    relative_freq = pd.Series(categorical_series).value_counts(normalize=True, dropna=False).mul(100).round(2).sort_index()\n",
    "    relative_freq_str = relative_freq.astype(str) + '%'\n",
    "    \n",
    "    # Combine into a DataFrame\n",
    "    result = pd.DataFrame({\n",
    "        'N': freq_count,\n",
    "        '%': relative_freq_str\n",
    "    })\n",
    "    \n",
    "    # Reindex the DataFrame to include all categories, filling with 0 for the counts and '0%' for the percentages\n",
    "    result = result.reindex(variable_categories, fill_value=0)\n",
    "    result['%'] = result['%'].replace({'0.0%': '0%'})\n",
    "\n",
    "    return result"
   ],
   "metadata": {
    "collapsed": false,
    "ExecuteTime": {
     "end_time": "2023-11-07T10:58:43.843439400Z",
     "start_time": "2023-11-07T10:58:43.823146900Z"
    }
   },
   "id": "53424471859c10ee"
  },
  {
   "cell_type": "code",
   "execution_count": 5,
   "outputs": [],
   "source": [
    "def tabulation(dataframe, variable, categories_sets: dict):\n",
    "   \"\"\"Tabulate value counts for a specific variable in a DataFrame, fetching categories from a provided dictionary.\"\"\"\n",
    "   # Fetch categories for the variable\n",
    "   variable_categories = categories_sets.get(variable, [])\n",
    "   \n",
    "   series = dataframe[variable]\n",
    "   frequencies = frequency_distribution(series=series, variable_categories=variable_categories)\n",
    "   return frequencies"
   ],
   "metadata": {
    "collapsed": false,
    "ExecuteTime": {
     "end_time": "2023-11-07T10:58:46.053350Z",
     "start_time": "2023-11-07T10:58:46.043323800Z"
    }
   },
   "id": "9e7965fd61f602a8"
  },
  {
   "cell_type": "code",
   "execution_count": 6,
   "outputs": [],
   "source": [
    "# Read categories data from YAML file\n",
    "categories_dict = read_categories_file('variables_categories.yaml')\n",
    "# Apply categories to variables\n",
    "categories = apply_categories_to_variables(categories_dict)"
   ],
   "metadata": {
    "collapsed": false,
    "ExecuteTime": {
     "end_time": "2023-11-07T10:58:49.493581200Z",
     "start_time": "2023-11-07T10:58:49.453431800Z"
    }
   },
   "id": "7b5eabbd7f5f76d9"
  },
  {
   "cell_type": "code",
   "execution_count": 7,
   "outputs": [],
   "source": [
    "# Read the dataset\n",
    "baseline = pd.read_csv('tba_data.csv')"
   ],
   "metadata": {
    "collapsed": false,
    "ExecuteTime": {
     "end_time": "2023-11-07T10:58:50.673194Z",
     "start_time": "2023-11-07T10:58:50.632947600Z"
    }
   },
   "id": "30c09eb881717da0"
  },
  {
   "cell_type": "code",
   "execution_count": 70,
   "outputs": [],
   "source": [
    "variable_name = 'concept2'"
   ],
   "metadata": {
    "collapsed": false,
    "ExecuteTime": {
     "end_time": "2023-11-07T15:27:13.571484700Z",
     "start_time": "2023-11-07T15:27:13.536491800Z"
    }
   },
   "id": "aeb4c34fb1223964"
  },
  {
   "cell_type": "code",
   "execution_count": 71,
   "outputs": [],
   "source": [
    "frequency = tabulation(dataframe=baseline, variable=variable_name, categories_sets=categories)\n",
    "frequency.to_clipboard()"
   ],
   "metadata": {
    "collapsed": false,
    "ExecuteTime": {
     "end_time": "2023-11-07T15:27:15.013404400Z",
     "start_time": "2023-11-07T15:27:14.096974200Z"
    }
   },
   "id": "1cd1e513e0330703"
  },
  {
   "cell_type": "code",
   "execution_count": 72,
   "outputs": [
    {
     "data": {
      "text/plain": "                  N       %\nnot_at_all        2   1.89%\na_little          3   2.83%\nmoderate_amount  20  18.87%\nvery_much        41  38.68%\nextreme_amount   40  37.74%\n888               0      0%\n999               0      0%",
      "text/html": "<div>\n<style scoped>\n    .dataframe tbody tr th:only-of-type {\n        vertical-align: middle;\n    }\n\n    .dataframe tbody tr th {\n        vertical-align: top;\n    }\n\n    .dataframe thead th {\n        text-align: right;\n    }\n</style>\n<table border=\"1\" class=\"dataframe\">\n  <thead>\n    <tr style=\"text-align: right;\">\n      <th></th>\n      <th>N</th>\n      <th>%</th>\n    </tr>\n  </thead>\n  <tbody>\n    <tr>\n      <th>not_at_all</th>\n      <td>2</td>\n      <td>1.89%</td>\n    </tr>\n    <tr>\n      <th>a_little</th>\n      <td>3</td>\n      <td>2.83%</td>\n    </tr>\n    <tr>\n      <th>moderate_amount</th>\n      <td>20</td>\n      <td>18.87%</td>\n    </tr>\n    <tr>\n      <th>very_much</th>\n      <td>41</td>\n      <td>38.68%</td>\n    </tr>\n    <tr>\n      <th>extreme_amount</th>\n      <td>40</td>\n      <td>37.74%</td>\n    </tr>\n    <tr>\n      <th>888</th>\n      <td>0</td>\n      <td>0%</td>\n    </tr>\n    <tr>\n      <th>999</th>\n      <td>0</td>\n      <td>0%</td>\n    </tr>\n  </tbody>\n</table>\n</div>"
     },
     "execution_count": 72,
     "metadata": {},
     "output_type": "execute_result"
    }
   ],
   "source": [
    "frequency"
   ],
   "metadata": {
    "collapsed": false,
    "ExecuteTime": {
     "end_time": "2023-11-07T15:27:15.106803600Z",
     "start_time": "2023-11-07T15:27:15.085983200Z"
    }
   },
   "id": "ef151cb4ece17a80"
  },
  {
   "cell_type": "code",
   "execution_count": null,
   "outputs": [],
   "source": [],
   "metadata": {
    "collapsed": false
   },
   "id": "a73ecd5dd81e54dc"
  },
  {
   "cell_type": "code",
   "execution_count": null,
   "outputs": [],
   "source": [
    "# Create a Pandas Excel writer using XlsxWriter as the engine.\n",
    "# with pd.ExcelWriter(output_file, engine='xlsxwriter') as writer:\n",
    "#    for var in question:\n",
    "#       Check if the variable exists in the dataframe\n",
    "#       if var in baseline.columns:\n",
    "         # Apply your function to the variable, and get the results\n",
    "         # result_df = normalized_value_counts(baseline[var])\n",
    "         # Write each DataFrame to a specific sheet\n",
    "         # result_df.to_excel(writer, sheet_name=var)\n",
    "      # else:\n",
    "      #    print(f\"Variable {var} not found in DataFrame.\")"
   ],
   "metadata": {
    "collapsed": false
   },
   "id": "2e0c6acd765903ab"
  },
  {
   "cell_type": "code",
   "execution_count": null,
   "outputs": [],
   "source": [
    "baseline['network_size'].value_counts()"
   ],
   "metadata": {
    "collapsed": false
   },
   "id": "6550da05f01d01a1"
  },
  {
   "cell_type": "code",
   "execution_count": null,
   "outputs": [],
   "source": [
    "# baseline['relative_support2'].value_counts(normalize=True) * 100"
   ],
   "metadata": {
    "collapsed": false
   },
   "id": "dea777515fe075e8"
  },
  {
   "cell_type": "code",
   "execution_count": null,
   "outputs": [],
   "source": [],
   "metadata": {
    "collapsed": false
   },
   "id": "220e9332f8c92407"
  }
 ],
 "metadata": {
  "kernelspec": {
   "display_name": "Python 3",
   "language": "python",
   "name": "python3"
  },
  "language_info": {
   "codemirror_mode": {
    "name": "ipython",
    "version": 2
   },
   "file_extension": ".py",
   "mimetype": "text/x-python",
   "name": "python",
   "nbconvert_exporter": "python",
   "pygments_lexer": "ipython2",
   "version": "2.7.6"
  }
 },
 "nbformat": 4,
 "nbformat_minor": 5
}
